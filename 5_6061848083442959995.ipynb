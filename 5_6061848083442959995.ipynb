{
  "nbformat": 4,
  "nbformat_minor": 0,
  "metadata": {
    "colab": {
      "name": "Securing Metadata of the Users in the Cloud using Blockchain.ipynb",
      "provenance": [],
      "collapsed_sections": []
    },
    "kernelspec": {
      "name": "python3",
      "display_name": "Python 3"
    },
    "language_info": {
      "name": "python"
    }
  },
  "cells": [
    {
      "cell_type": "markdown",
      "source": [
        "**Securing Metadata of the Users in the Cloud using Blockchain** \n",
        "\n",
        "\n",
        "\n"
      ],
      "metadata": {
        "id": "ifJrpT7sCVKH"
      }
    },
    {
      "cell_type": "code",
      "execution_count": null,
      "metadata": {
        "id": "ItTFpJI8B91C"
      },
      "outputs": [],
      "source": [
        "import datetime\n",
        "import hashlib\n",
        "import json\n",
        "import random"
      ]
    },
    {
      "cell_type": "code",
      "source": [
        "class Blockchain:\n",
        "\n",
        "\tdef __init__(self):\n",
        "\t\tself.chain = []\n",
        "\t\tself.create_block(proof=1, previous_hash='0',data=None)\n",
        "\n",
        "\tdef create_block(self, proof, previous_hash,data):\n",
        "\t\tblock = {'index': len(self.chain) + 1,\n",
        "\t\t\t\t'timestamp': str(datetime.datetime.now()),\n",
        "\t\t\t\t'proof': proof,'data':data,\n",
        "\t\t\t\t'previous_hash': previous_hash}\n",
        "\t\tself.chain.append(block)\n",
        "\t\treturn block\n",
        "\n",
        "\tdef print_previous_block(self):\n",
        "\t\treturn self.chain[-1]\n",
        "\n",
        "\tdef proof_of_work(self, previous_proof): #Solving a cryptographic puzzle\n",
        "\t\tnew_proof = random.choice([i for i in range(100)])\n",
        "\t\tprint(\"Mining a block by soliving a cryptographic puzzle! Please wait.\")\n",
        "\t\tcheck_proof = False\n",
        "\t\t\n",
        "\t\twhile check_proof is False:\n",
        "\t\t\thash_operation = hashlib.sha256(str(new_proof**2 - previous_proof**2).encode()).hexdigest()\n",
        "\t\t\tif hash_operation[:5] == '00000':\n",
        "\t\t\t\tcheck_proof = True\n",
        "\t\t\telse:\n",
        "\t\t\t\tnew_proof += random.choice([i for i in range(10)])\n",
        "\t\t\t\t\n",
        "\t\treturn new_proof\n",
        "\n",
        "\tdef hash(self, block):\n",
        "\t\tencoded_block = json.dumps(block, sort_keys=True).encode()\n",
        "\t\tprint(\"encoded_block\",encoded_block)\n",
        "\t\treturn hashlib.sha256(encoded_block).hexdigest()\n",
        "\n",
        "\tdef chain_valid(self, chain):\n",
        "\t\tprevious_block = chain[0]\n",
        "\t\tblock_index = 1\n",
        "\t\t\n",
        "\t\twhile block_index < len(chain):\n",
        "\t\t\tblock = chain[block_index]\n",
        "\t\t\tif block['previous_hash'] != self.hash(previous_block):\n",
        "\t\t\t\treturn False\n",
        "\t\t\t\n",
        "\t\t\tprevious_proof = previous_block['proof']\n",
        "\t\t\tproof = block['proof']\n",
        "\t\t\thash_operation = hashlib.sha256(str(proof**2 - previous_proof**2).encode()).hexdigest()\n",
        "\t\t\t\n",
        "\t\t\tif hash_operation[:5] != '00000':\n",
        "\t\t\t\treturn False\n",
        "\t\t\tprevious_block = block\n",
        "\t\t\tblock_index += 1\n",
        "\t\t\n",
        "\t\treturn True"
      ],
      "metadata": {
        "id": "ngddX-csEcUc"
      },
      "execution_count": null,
      "outputs": []
    },
    {
      "cell_type": "code",
      "source": [
        "def mine_block(userObject,data):\n",
        "\tprevious_block = userObject.print_previous_block()\n",
        "\tprevious_proof = previous_block['proof']\n",
        "\tproof = userObject.proof_of_work(previous_proof)\n",
        "\tprevious_hash = userObject.hash(previous_block)\n",
        "\tblock = userObject.create_block(proof, previous_hash,data)\n",
        "\t\n",
        "\tresponse = {'message': 'A block is MINED',\n",
        "\t\t\t\t\t\t\t'index': block['index'],\n",
        "\t\t\t\t\t\t\t'timestamp': block['timestamp'],\n",
        "\t\t\t\t\t\t\t'proof': block['proof'],\n",
        "\t\t\t\t\t\t\t'previous_hash': block['previous_hash']}\n",
        "\treturn response"
      ],
      "metadata": {
        "id": "GyDJi-sJEcZ6"
      },
      "execution_count": null,
      "outputs": []
    },
    {
      "cell_type": "code",
      "source": [
        "def display_chain(userObject):\n",
        "\tresponse = {'chain': userObject.chain,\n",
        "\t\t\t\t\t\t\t'length': len(userObject.chain)}\n",
        "\treturn response"
      ],
      "metadata": {
        "id": "itMLLk_2Ece-"
      },
      "execution_count": null,
      "outputs": []
    },
    {
      "cell_type": "code",
      "source": [
        "def valid(userObject):\n",
        "\tvalid = userObject.chain_valid(userObject.chain)\n",
        "\t\n",
        "\tif valid:\n",
        "\t\tresponse = {'message': 'The Blockchain is valid.'}\n",
        "\telse:\n",
        "\t\tresponse = {'message': 'The Blockchain is not valid.'}\n",
        "\treturn response"
      ],
      "metadata": {
        "id": "ArSZZZF5EcmH"
      },
      "execution_count": null,
      "outputs": []
    },
    {
      "cell_type": "markdown",
      "source": [
        "-----------------------------INPUT SECTION--------------------------\n",
        "\n",
        "Basically, meta-information can be divided into three types:\n",
        "\n",
        "Technical Metadata\n",
        "\n",
        "Descriptive Metadata\n",
        "\n",
        "Administrative Metadata"
      ],
      "metadata": {
        "id": "Dz_8lJlGv2xw"
      }
    },
    {
      "cell_type": "code",
      "source": [
        "user1_metadata={'hashedPassword':'3169268e9d8cd5c80220128a92b1d31db7195b5b2ef0e50f2b12fc1bf90f8fb0',\n",
        "                'servicesOpted':{'Storage':'1TB','Computation':'10GHz','CloudSQL':['MongoDB','MS SQL Server'],'IoT Cores':10},\n",
        "                'ConfigConnector':'Kubernetes',\n",
        "                'AppEngine':'Serverless',\n",
        "                'Access Specifiers':{'Engine':'root','Query SSH':'user'}\n",
        "                }"
      ],
      "metadata": {
        "id": "Za5vdIz1ByTB"
      },
      "execution_count": null,
      "outputs": []
    },
    {
      "cell_type": "code",
      "source": [
        "user1 = Blockchain()"
      ],
      "metadata": {
        "id": "5lnlyAI5LlD-"
      },
      "execution_count": null,
      "outputs": []
    },
    {
      "cell_type": "code",
      "source": [
        "for key in user1_metadata.keys():\n",
        "  data=str({key:user1_metadata[key]})\n",
        "  print(mine_block(user1,data))"
      ],
      "metadata": {
        "id": "9G-k9BwxL9pT",
        "colab": {
          "base_uri": "https://localhost:8080/"
        },
        "outputId": "7bfeee8e-7778-4f2a-d3f7-f5b02df7042c"
      },
      "execution_count": null,
      "outputs": [
        {
          "output_type": "stream",
          "name": "stdout",
          "text": [
            "Mining a block by soliving a cryptographic puzzle! Please wait.\n",
            "encoded_block b'{\"data\": null, \"index\": 1, \"previous_hash\": \"0\", \"proof\": 1, \"timestamp\": \"2022-05-16 07:52:39.630810\"}'\n",
            "{'message': 'A block is MINED', 'index': 2, 'timestamp': '2022-05-16 07:52:41.390009', 'proof': 2059573, 'previous_hash': 'f66c245ece5c0854ac621aa4c3d14e3ed87684f92676fd2703eaed1a6ede3906'}\n",
            "Mining a block by soliving a cryptographic puzzle! Please wait.\n",
            "encoded_block b'{\"data\": \"{\\'hashedPassword\\': \\'3169268e9d8cd5c80220128a92b1d31db7195b5b2ef0e50f2b12fc1bf90f8fb0\\'}\", \"index\": 2, \"previous_hash\": \"f66c245ece5c0854ac621aa4c3d14e3ed87684f92676fd2703eaed1a6ede3906\", \"proof\": 2059573, \"timestamp\": \"2022-05-16 07:52:41.390009\"}'\n",
            "{'message': 'A block is MINED', 'index': 3, 'timestamp': '2022-05-16 07:52:45.055408', 'proof': 4333186, 'previous_hash': 'dd6e6072d88f3e32cd00eaa611c0d0ef030c455c19a5c133e537925b646457fd'}\n",
            "Mining a block by soliving a cryptographic puzzle! Please wait.\n",
            "encoded_block b'{\"data\": \"{\\'servicesOpted\\': {\\'Storage\\': \\'1TB\\', \\'Computation\\': \\'10GHz\\', \\'CloudSQL\\': [\\'MongoDB\\', \\'MS SQL Server\\'], \\'IoT Cores\\': 10}}\", \"index\": 3, \"previous_hash\": \"dd6e6072d88f3e32cd00eaa611c0d0ef030c455c19a5c133e537925b646457fd\", \"proof\": 4333186, \"timestamp\": \"2022-05-16 07:52:45.055408\"}'\n",
            "{'message': 'A block is MINED', 'index': 4, 'timestamp': '2022-05-16 07:52:49.279276', 'proof': 4908780, 'previous_hash': 'd3f718ea03a592010ddc051ce68d6d6014cd3b63f0a5a65912d8f8ad11f140ad'}\n",
            "Mining a block by soliving a cryptographic puzzle! Please wait.\n",
            "encoded_block b'{\"data\": \"{\\'ConfigConnector\\': \\'Kubernetes\\'}\", \"index\": 4, \"previous_hash\": \"d3f718ea03a592010ddc051ce68d6d6014cd3b63f0a5a65912d8f8ad11f140ad\", \"proof\": 4908780, \"timestamp\": \"2022-05-16 07:52:49.279276\"}'\n",
            "{'message': 'A block is MINED', 'index': 5, 'timestamp': '2022-05-16 07:52:50.001162', 'proof': 829386, 'previous_hash': '7dc3216c836c1aa8a5d541d6174008598086f9b2a33a3cfd03c62a6d13355c5c'}\n",
            "Mining a block by soliving a cryptographic puzzle! Please wait.\n",
            "encoded_block b'{\"data\": \"{\\'AppEngine\\': \\'Serverless\\'}\", \"index\": 5, \"previous_hash\": \"7dc3216c836c1aa8a5d541d6174008598086f9b2a33a3cfd03c62a6d13355c5c\", \"proof\": 829386, \"timestamp\": \"2022-05-16 07:52:50.001162\"}'\n",
            "{'message': 'A block is MINED', 'index': 6, 'timestamp': '2022-05-16 07:52:53.033863', 'proof': 3522940, 'previous_hash': '972c7f7a0a3c1cb31446450e2b1abbe86eab33168fd342c39915b1b31554fcc2'}\n"
          ]
        }
      ]
    },
    {
      "cell_type": "code",
      "source": [
        "myChain=display_chain(user1)\n",
        "for i in myChain['chain']:\n",
        "  print(i)"
      ],
      "metadata": {
        "colab": {
          "base_uri": "https://localhost:8080/"
        },
        "id": "nLM5xDP2fOMo",
        "outputId": "dae12908-7855-464c-d5ab-ef735a666c6a"
      },
      "execution_count": null,
      "outputs": [
        {
          "output_type": "stream",
          "name": "stdout",
          "text": [
            "{'index': 1, 'timestamp': '2022-05-16 07:52:39.630810', 'proof': 1, 'data': None, 'previous_hash': '0'}\n",
            "{'index': 2, 'timestamp': '2022-05-16 07:52:41.390009', 'proof': 2059573, 'data': \"{'hashedPassword': '3169268e9d8cd5c80220128a92b1d31db7195b5b2ef0e50f2b12fc1bf90f8fb0'}\", 'previous_hash': 'f66c245ece5c0854ac621aa4c3d14e3ed87684f92676fd2703eaed1a6ede3906'}\n",
            "{'index': 3, 'timestamp': '2022-05-16 07:52:45.055408', 'proof': 4333186, 'data': \"{'servicesOpted': {'Storage': '1TB', 'Computation': '10GHz', 'CloudSQL': ['MongoDB', 'MS SQL Server'], 'IoT Cores': 10}}\", 'previous_hash': 'dd6e6072d88f3e32cd00eaa611c0d0ef030c455c19a5c133e537925b646457fd'}\n",
            "{'index': 4, 'timestamp': '2022-05-16 07:52:49.279276', 'proof': 4908780, 'data': \"{'ConfigConnector': 'Kubernetes'}\", 'previous_hash': 'd3f718ea03a592010ddc051ce68d6d6014cd3b63f0a5a65912d8f8ad11f140ad'}\n",
            "{'index': 5, 'timestamp': '2022-05-16 07:52:50.001162', 'proof': 829386, 'data': \"{'AppEngine': 'Serverless'}\", 'previous_hash': '7dc3216c836c1aa8a5d541d6174008598086f9b2a33a3cfd03c62a6d13355c5c'}\n",
            "{'index': 6, 'timestamp': '2022-05-16 07:52:53.033863', 'proof': 3522940, 'data': \"{'Access Specifiers': {'Engine': 'root', 'Query SSH': 'user'}}\", 'previous_hash': '972c7f7a0a3c1cb31446450e2b1abbe86eab33168fd342c39915b1b31554fcc2'}\n"
          ]
        }
      ]
    },
    {
      "cell_type": "code",
      "source": [
        "print(valid(user1))"
      ],
      "metadata": {
        "colab": {
          "base_uri": "https://localhost:8080/"
        },
        "id": "RZ-wdWiCv9Wq",
        "outputId": "723b2b28-9c13-4288-a88b-34b33054f65a"
      },
      "execution_count": null,
      "outputs": [
        {
          "output_type": "stream",
          "name": "stdout",
          "text": [
            "encoded_block b'{\"data\": null, \"index\": 1, \"previous_hash\": \"0\", \"proof\": 1, \"timestamp\": \"2022-05-16 07:52:39.630810\"}'\n",
            "encoded_block b'{\"data\": \"{\\'hashedPassword\\': \\'3169268e9d8cd5c80220128a92b1d31db7195b5b2ef0e50f2b12fc1bf90f8fb0\\'}\", \"index\": 2, \"previous_hash\": \"f66c245ece5c0854ac621aa4c3d14e3ed87684f92676fd2703eaed1a6ede3906\", \"proof\": 2059573, \"timestamp\": \"2022-05-16 07:52:41.390009\"}'\n",
            "encoded_block b'{\"data\": \"{\\'servicesOpted\\': {\\'Storage\\': \\'1TB\\', \\'Computation\\': \\'10GHz\\', \\'CloudSQL\\': [\\'MongoDB\\', \\'MS SQL Server\\'], \\'IoT Cores\\': 10}}\", \"index\": 3, \"previous_hash\": \"dd6e6072d88f3e32cd00eaa611c0d0ef030c455c19a5c133e537925b646457fd\", \"proof\": 4333186, \"timestamp\": \"2022-05-16 07:52:45.055408\"}'\n",
            "encoded_block b'{\"data\": \"{\\'ConfigConnector\\': \\'Kubernetes\\'}\", \"index\": 4, \"previous_hash\": \"d3f718ea03a592010ddc051ce68d6d6014cd3b63f0a5a65912d8f8ad11f140ad\", \"proof\": 4908780, \"timestamp\": \"2022-05-16 07:52:49.279276\"}'\n",
            "encoded_block b'{\"data\": \"{\\'AppEngine\\': \\'Serverless\\'}\", \"index\": 5, \"previous_hash\": \"7dc3216c836c1aa8a5d541d6174008598086f9b2a33a3cfd03c62a6d13355c5c\", \"proof\": 829386, \"timestamp\": \"2022-05-16 07:52:50.001162\"}'\n",
            "{'message': 'The Blockchain is valid.'}\n"
          ]
        }
      ]
    },
    {
      "cell_type": "code",
      "source": [
        "#myChain['chain'][1]['data']=\"{'hashedPassword': '8697f6f3e2eec48a3f43fcc9e20cb8bbedb45706b37b0d2d7d6476f56cf61704'}\""
      ],
      "metadata": {
        "id": "m0D0SLMXLKuR"
      },
      "execution_count": null,
      "outputs": []
    },
    {
      "cell_type": "code",
      "source": [
        "#print(valid(user1))"
      ],
      "metadata": {
        "colab": {
          "base_uri": "https://localhost:8080/"
        },
        "id": "H1mptTDXLK7m",
        "outputId": "bec27aaa-a49f-44bf-feb0-cdc26bce91b2"
      },
      "execution_count": null,
      "outputs": [
        {
          "output_type": "stream",
          "name": "stdout",
          "text": [
            "encoded_block b'{\"data\": null, \"index\": 1, \"previous_hash\": \"0\", \"proof\": 1, \"timestamp\": \"2022-05-16 07:52:39.630810\"}'\n",
            "encoded_block b'{\"data\": \"{\\'hashedPassword\\': \\'8697f6f3e2eec48a3f43fcc9e20cb8bbedb45706b37b0d2d7d6476f56cf61704\\'}\", \"index\": 2, \"previous_hash\": \"f66c245ece5c0854ac621aa4c3d14e3ed87684f92676fd2703eaed1a6ede3906\", \"proof\": 2059573, \"timestamp\": \"2022-05-16 07:52:41.390009\"}'\n",
            "{'message': 'The Blockchain is not valid.'}\n"
          ]
        }
      ]
    }
  ]
}